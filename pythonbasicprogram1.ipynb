{
 "cells": [
  {
   "cell_type": "code",
   "execution_count": 13,
   "id": "616813ee",
   "metadata": {},
   "outputs": [
    {
     "name": "stdout",
     "output_type": "stream",
     "text": [
      "hello python\n"
     ]
    }
   ],
   "source": [
    "\"\"\"1. Write a Python program to print \"Hello Python\"?\n",
    "Ans\"\"\"\n",
    "\n",
    "print(\"hello python\")\n"
   ]
  },
  {
   "cell_type": "code",
   "execution_count": 19,
   "id": "cee09d65",
   "metadata": {},
   "outputs": [
    {
     "name": "stdout",
     "output_type": "stream",
     "text": [
      "a :6\n",
      "b :7\n",
      "add :13\n",
      "division : 0.8571428571428571\n"
     ]
    }
   ],
   "source": [
    "\"\"\"2. Write a Python program to do arithmetical operations addition and division.?\n",
    "\n",
    "Ans\"\"\"\n",
    "\n",
    "a= int(input(\"a :\"))\n",
    "b= int(input(\"b :\"))\n",
    "c=a+b\n",
    "print(\"add :{}\" .format(c))\n",
    "d=a/b\n",
    "print(\"division : {}\" .format(d))"
   ]
  },
  {
   "cell_type": "code",
   "execution_count": 24,
   "id": "7b642d41",
   "metadata": {},
   "outputs": [
    {
     "name": "stdout",
     "output_type": "stream",
     "text": [
      "Enter the height of triangle:3\n",
      "Enter the base of triangle:4\n",
      "area of triangle is =6.0\n"
     ]
    }
   ],
   "source": [
    "\"\"\"3. Write a Python program to find the area of a triangle?\n",
    "Ans\"\"\"\n",
    "\n",
    "h= int(input(\"Enter the height of triangle:\"))\n",
    "b=int(input(\"Enter the base of triangle:\"))\n",
    "a=h*b/2\n",
    "#area=a/2\n",
    "print(\"area of triangle is ={}\".format(a))"
   ]
  },
  {
   "cell_type": "code",
   "execution_count": 27,
   "id": "16b01ed7",
   "metadata": {},
   "outputs": [
    {
     "name": "stdout",
     "output_type": "stream",
     "text": [
      "Enter value a:2\n",
      "Enter value b:3\n",
      "after swaping a:3 b:2\n"
     ]
    }
   ],
   "source": [
    "\"\"\"4. Write a Python program to swap two variables?\n",
    "Ans\"\"\"\n",
    "a= int(input(\"Enter value a:\"))\n",
    "b= int(input(\"Enter value b:\"))\n",
    "c=b\n",
    "b=a\n",
    "a=c\n",
    "print(\"after swaping a:{} b:{}\". format(a , b))"
   ]
  },
  {
   "cell_type": "code",
   "execution_count": 28,
   "id": "c3edead9",
   "metadata": {},
   "outputs": [
    {
     "name": "stdout",
     "output_type": "stream",
     "text": [
      "Enter the Range: \n",
      "8\n",
      "13\n",
      "\n",
      "Random Number = 9\n"
     ]
    }
   ],
   "source": [
    "\"\"\"5. Write a Python program to generate a random number?\n",
    "Ans\"\"\"\n",
    "import random\n",
    "\n",
    "print(\"Enter the Range: \")\n",
    "start = int(input())\n",
    "end = int(input())\n",
    "\n",
    "randnum = random.randint(start, end)\n",
    "print(\"\\nRandom Number =\", randnum)"
   ]
  },
  {
   "cell_type": "code",
   "execution_count": null,
   "id": "c3b5b183",
   "metadata": {},
   "outputs": [],
   "source": []
  }
 ],
 "metadata": {
  "kernelspec": {
   "display_name": "Python 3",
   "language": "python",
   "name": "python3"
  },
  "language_info": {
   "codemirror_mode": {
    "name": "ipython",
    "version": 3
   },
   "file_extension": ".py",
   "mimetype": "text/x-python",
   "name": "python",
   "nbconvert_exporter": "python",
   "pygments_lexer": "ipython3",
   "version": "3.8.8"
  }
 },
 "nbformat": 4,
 "nbformat_minor": 5
}
